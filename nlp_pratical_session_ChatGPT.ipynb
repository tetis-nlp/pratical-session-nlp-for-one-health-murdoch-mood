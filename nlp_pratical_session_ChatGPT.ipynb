{
 "cells": [
  {
   "attachments": {},
   "cell_type": "markdown",
   "metadata": {},
   "source": [
    "<H1 style=\"text-align: center;\">NLP for One Health</H1>\n",
    "<h3 style=\"text-align: center;\">From BERT to ChatGPT</h3>\n",
    "\n",
    "|   |   |   |   |\n",
    "|---|---|---|---|\n",
    "| <img src=\"https://mood-h2020.eu/wp-content/uploads/2020/10/logo_Mood_texte-dessous_CMJN_vecto-300x136.jpg\" alt=\"mood\"/> | <img src=\"https://www.murdoch.edu.au/ResourcePackages/Murdoch2021/assets/dist/images/logo.svg\" alt=\"murdoch\" /> | <img src=\"https://www.umr-tetis.fr/images/logo-header-tetis.png\" alt=\"tetis\"/> | <img src=\"https://www.inrae.fr/themes/custom/inrae_socle/logo.svg\" alt=\"INRAE\" /> |\n",
    "\n",
    "Speakers:\n",
    "\n",
    "- **Rémy DECOUPES** - Research engineer UMR TETIS / INRAE\n",
    "- **Maguelonne TEISSEIRE** - Prof. UMR TETIS / INRAE\n",
    "\n",
    "------------------------\n",
    "# Chapter 2: ChatGPT\n",
    "[ChatGPT](https://chat.openai.com) is an AI chatbot developed by OpenAI. ChatGPT uses a generative language model called GPT-3.5 without subscription and GPT-4 for 20€/month.\n",
    "\n",
    "## 2.1 Requirements\n",
    "As we are going to use ChatGPT through the [OpenAI API](https://platform.openai.com/), participants need to create a account in order to obtain an API key: [here](https://platform.openai.com/)\n",
    "\n",
    "+ Free access: 18$ will be credited for a short period of time and it would not be renewed.\n",
    "+ Or add a payment method\n",
    "\n",
    "Then let's begin with GPT3.5-turbo"
   ]
  },
  {
   "cell_type": "code",
   "execution_count": 1,
   "metadata": {},
   "outputs": [
    {
     "name": "stdout",
     "output_type": "stream",
     "text": [
      "Collecting openai\n",
      "  Downloading openai-0.27.4-py3-none-any.whl (70 kB)\n",
      "\u001b[2K     \u001b[90m━━━━━━━━━━━━━━━━━━━━━━━━━━━━━━━━━━━━━━━\u001b[0m \u001b[32m70.3/70.3 kB\u001b[0m \u001b[31m755.3 kB/s\u001b[0m eta \u001b[36m0:00:00\u001b[0ma \u001b[36m0:00:01\u001b[0m\n",
      "\u001b[?25hRequirement already satisfied: requests>=2.20 in ./.conda/lib/python3.10/site-packages (from openai) (2.28.2)\n",
      "Collecting aiohttp\n",
      "  Using cached aiohttp-3.8.4-cp310-cp310-manylinux_2_17_x86_64.manylinux2014_x86_64.whl (1.0 MB)\n",
      "Requirement already satisfied: tqdm in ./.conda/lib/python3.10/site-packages (from openai) (4.65.0)\n",
      "Requirement already satisfied: urllib3<1.27,>=1.21.1 in ./.conda/lib/python3.10/site-packages (from requests>=2.20->openai) (1.26.15)\n",
      "Requirement already satisfied: idna<4,>=2.5 in ./.conda/lib/python3.10/site-packages (from requests>=2.20->openai) (3.4)\n",
      "Requirement already satisfied: certifi>=2017.4.17 in ./.conda/lib/python3.10/site-packages (from requests>=2.20->openai) (2022.12.7)\n",
      "Requirement already satisfied: charset-normalizer<4,>=2 in ./.conda/lib/python3.10/site-packages (from requests>=2.20->openai) (3.1.0)\n",
      "Requirement already satisfied: attrs>=17.3.0 in ./.conda/lib/python3.10/site-packages (from aiohttp->openai) (22.2.0)\n",
      "Collecting aiosignal>=1.1.2\n",
      "  Using cached aiosignal-1.3.1-py3-none-any.whl (7.6 kB)\n",
      "Collecting yarl<2.0,>=1.0\n",
      "  Using cached yarl-1.8.2-cp310-cp310-manylinux_2_17_x86_64.manylinux2014_x86_64.whl (264 kB)\n",
      "Collecting multidict<7.0,>=4.5\n",
      "  Using cached multidict-6.0.4-cp310-cp310-manylinux_2_17_x86_64.manylinux2014_x86_64.whl (114 kB)\n",
      "Collecting frozenlist>=1.1.1\n",
      "  Using cached frozenlist-1.3.3-cp310-cp310-manylinux_2_5_x86_64.manylinux1_x86_64.manylinux_2_17_x86_64.manylinux2014_x86_64.whl (149 kB)\n",
      "Collecting async-timeout<5.0,>=4.0.0a3\n",
      "  Using cached async_timeout-4.0.2-py3-none-any.whl (5.8 kB)\n",
      "Installing collected packages: multidict, frozenlist, async-timeout, yarl, aiosignal, aiohttp, openai\n",
      "Successfully installed aiohttp-3.8.4 aiosignal-1.3.1 async-timeout-4.0.2 frozenlist-1.3.3 multidict-6.0.4 openai-0.27.4 yarl-1.8.2\n"
     ]
    }
   ],
   "source": [
    "# installation\n",
    "!pip install openai"
   ]
  },
  {
   "cell_type": "markdown",
   "metadata": {},
   "source": []
  },
  {
   "cell_type": "code",
   "execution_count": 18,
   "metadata": {},
   "outputs": [],
   "source": [
    "import openai\n",
    "openai.api_key = \"sk-...\""
   ]
  },
  {
   "cell_type": "code",
   "execution_count": 20,
   "metadata": {},
   "outputs": [
    {
     "name": "stdout",
     "output_type": "stream",
     "text": [
      "babbage\n",
      "davinci\n",
      "text-davinci-edit-001\n",
      "babbage-code-search-code\n",
      "text-similarity-babbage-001\n",
      "code-davinci-edit-001\n",
      "text-davinci-001\n",
      "ada\n",
      "babbage-code-search-text\n",
      "babbage-similarity\n",
      "code-search-babbage-text-001\n",
      "text-curie-001\n",
      "whisper-1\n",
      "code-search-babbage-code-001\n",
      "text-davinci-003\n",
      "text-ada-001\n",
      "text-embedding-ada-002\n",
      "text-similarity-ada-001\n",
      "curie-instruct-beta\n",
      "ada-code-search-code\n",
      "ada-similarity\n",
      "code-search-ada-text-001\n",
      "text-search-ada-query-001\n",
      "davinci-search-document\n",
      "ada-code-search-text\n",
      "text-search-ada-doc-001\n",
      "davinci-instruct-beta\n",
      "text-similarity-curie-001\n",
      "code-search-ada-code-001\n",
      "ada-search-query\n",
      "text-search-davinci-query-001\n",
      "curie-search-query\n",
      "davinci-search-query\n",
      "babbage-search-document\n",
      "ada-search-document\n",
      "text-search-curie-query-001\n",
      "text-search-babbage-doc-001\n",
      "curie-search-document\n",
      "text-search-curie-doc-001\n",
      "babbage-search-query\n",
      "text-babbage-001\n",
      "text-search-davinci-doc-001\n",
      "text-search-babbage-query-001\n",
      "curie-similarity\n",
      "gpt-3.5-turbo-0301\n",
      "curie\n",
      "gpt-3.5-turbo\n",
      "text-similarity-davinci-001\n",
      "text-davinci-002\n",
      "davinci-similarity\n",
      "cushman:2020-05-03\n",
      "ada:2020-05-03\n",
      "babbage:2020-05-03\n",
      "curie:2020-05-03\n",
      "davinci:2020-05-03\n",
      "if-davinci-v2\n",
      "if-curie-v2\n",
      "if-davinci:3.0.0\n",
      "davinci-if:3.0.0\n",
      "davinci-instruct-beta:2.0.0\n",
      "text-ada:001\n",
      "text-davinci:001\n",
      "text-curie:001\n",
      "text-babbage:001\n"
     ]
    }
   ],
   "source": [
    "# list models\n",
    "models = openai.Model.list()\n",
    "\n",
    "for model in models.data:\n",
    "    print(f\"{model.id}\")\n"
   ]
  },
  {
   "cell_type": "code",
   "execution_count": 21,
   "metadata": {},
   "outputs": [
    {
     "name": "stdout",
     "output_type": "stream",
     "text": [
      "{\n",
      "  \"created\": 1677649963,\n",
      "  \"id\": \"gpt-3.5-turbo-0301\",\n",
      "  \"object\": \"model\",\n",
      "  \"owned_by\": \"openai\",\n",
      "  \"parent\": null,\n",
      "  \"permission\": [\n",
      "    {\n",
      "      \"allow_create_engine\": false,\n",
      "      \"allow_fine_tuning\": false,\n",
      "      \"allow_logprobs\": true,\n",
      "      \"allow_sampling\": true,\n",
      "      \"allow_search_indices\": false,\n",
      "      \"allow_view\": true,\n",
      "      \"created\": 1680905315,\n",
      "      \"group\": null,\n",
      "      \"id\": \"modelperm-ufCyf8i6fKYyUSkDZ0Hd6Vpe\",\n",
      "      \"is_blocking\": false,\n",
      "      \"object\": \"model_permission\",\n",
      "      \"organization\": \"*\"\n",
      "    }\n",
      "  ],\n",
      "  \"root\": \"gpt-3.5-turbo-0301\"\n",
      "}\n"
     ]
    }
   ],
   "source": [
    "# print GPT3.5 info\n",
    "print(models.data[44])"
   ]
  },
  {
   "cell_type": "code",
   "execution_count": 22,
   "metadata": {},
   "outputs": [
    {
     "name": "stdout",
     "output_type": "stream",
     "text": [
      "Certainly! One Health is a concept that recognizes the interconnectedness of human, animal, and environmental health. It emphasizes the importance of collaboration and communication across different sectors and disciplines to address complex health issues that affect all three domains.\n",
      "\n",
      "The One Health approach recognizes that human health is closely linked to the health of animals and the environment. For example, many infectious diseases that affect humans, such as Ebola and COVID-19, are zoonotic, meaning they are transmitted from animals to humans. Environmental factors, such as climate change and pollution, can also have significant impacts on human and animal health.\n",
      "\n",
      "By taking a One Health approach, researchers, healthcare professionals, and policymakers can work together to identify and address health issues that affect multiple domains. This can lead to more effective and sustainable solutions that benefit both human and animal populations, as well as the environment.\n"
     ]
    }
   ],
   "source": [
    "response = openai.ChatCompletion.create(\n",
    "    model=\"gpt-3.5-turbo-0301\",\n",
    "    messages=[\n",
    "        {\"role\": \"system\", \"content\": \"You are an academic researcher\"},\n",
    "        {\"role\": \"user\", \"content\": \"Could you explain me what one health concept is ?\"},\n",
    "    ],\n",
    "    temperature=0,\n",
    ")\n",
    "\n",
    "print(response['choices'][0]['message']['content'])\n",
    "\n"
   ]
  },
  {
   "attachments": {},
   "cell_type": "markdown",
   "metadata": {},
   "source": [
    "## 2.2 Text generation with ChatGPT\n",
    "\n",
    "Let's now try the same text generation that we tried with bert"
   ]
  },
  {
   "cell_type": "code",
   "execution_count": 23,
   "metadata": {},
   "outputs": [
    {
     "name": "stdout",
     "output_type": "stream",
     "text": [
      "disciplines working locally, nationally, and globally to attain optimal health for people, animals, and the environment.\n"
     ]
    }
   ],
   "source": [
    "my_sentence = \"One Health is an approach calling for the collaborative efforts of multiple\"\n",
    "\n",
    "response = openai.ChatCompletion.create(\n",
    "    model=\"gpt-3.5-turbo-0301\",\n",
    "    messages=[\n",
    "        {\"role\": \"user\", \"content\": f\"Could you complete this following sentence ? {my_sentence}\"},\n",
    "    ],\n",
    "    temperature=0,\n",
    ")\n",
    "\n",
    "print(response['choices'][0]['message']['content'])"
   ]
  },
  {
   "cell_type": "code",
   "execution_count": 39,
   "metadata": {},
   "outputs": [
    {
     "name": "stdout",
     "output_type": "stream",
     "text": [
      "The 'one health concept' is a collaborative approach that recognizes the interconnectedness of human, animal, and environmental health. It emphasizes the need for interdisciplinary cooperation and communication among healthcare professionals, veterinarians, environmental scientists, and other stakeholders to address health issues that affect all three domains. The goal of the one health concept is to promote the health and well-being of all living beings and the planet as a whole.\n"
     ]
    }
   ],
   "source": [
    "my_question = \"question: What does 'one health concept' mean ?\"\n",
    "\n",
    "response = openai.ChatCompletion.create(\n",
    "    model=\"gpt-3.5-turbo-0301\",\n",
    "    messages=[\n",
    "        {\"role\": \"user\", \"content\": f\"Could you answer to this following question ? {my_question}\"},\n",
    "    ],\n",
    "    temperature=0,\n",
    ")\n",
    "\n",
    "print(response['choices'][0]['message']['content'])"
   ]
  },
  {
   "attachments": {},
   "cell_type": "markdown",
   "metadata": {},
   "source": [
    "## 2.3 Langchain\n",
    "GPT-3.5 is not the only LLM ! Langchain is a python library that makes easy to use different API (like OpenAI, HuggingFace, Cohere, ...)\n"
   ]
  },
  {
   "cell_type": "code",
   "execution_count": 27,
   "metadata": {},
   "outputs": [
    {
     "name": "stdout",
     "output_type": "stream",
     "text": [
      "Collecting langchain\n",
      "  Downloading langchain-0.0.135-py3-none-any.whl (511 kB)\n",
      "\u001b[2K     \u001b[90m━━━━━━━━━━━━━━━━━━━━━━━━━━━━━━━━━━━━━━━\u001b[0m \u001b[32m511.7/511.7 kB\u001b[0m \u001b[31m1.1 MB/s\u001b[0m eta \u001b[36m0:00:00\u001b[0ma \u001b[36m0:00:01\u001b[0m\n",
      "\u001b[?25hCollecting dataclasses-json<0.6.0,>=0.5.7\n",
      "  Using cached dataclasses_json-0.5.7-py3-none-any.whl (25 kB)\n",
      "Collecting SQLAlchemy<2,>=1\n",
      "  Downloading SQLAlchemy-1.4.47-cp310-cp310-manylinux_2_5_x86_64.manylinux1_x86_64.manylinux_2_17_x86_64.manylinux2014_x86_64.whl (1.6 MB)\n",
      "\u001b[2K     \u001b[90m━━━━━━━━━━━━━━━━━━━━━━━━━━━━━━━━━━━━━━━━\u001b[0m \u001b[32m1.6/1.6 MB\u001b[0m \u001b[31m1.2 MB/s\u001b[0m eta \u001b[36m0:00:00\u001b[0m00:01\u001b[0m00:01\u001b[0m\n",
      "\u001b[?25hRequirement already satisfied: aiohttp<4.0.0,>=3.8.3 in ./.conda/lib/python3.10/site-packages (from langchain) (3.8.4)\n",
      "Requirement already satisfied: requests<3,>=2 in ./.conda/lib/python3.10/site-packages (from langchain) (2.28.2)\n",
      "Collecting openapi-schema-pydantic<2.0,>=1.2\n",
      "  Downloading openapi_schema_pydantic-1.2.4-py3-none-any.whl (90 kB)\n",
      "\u001b[2K     \u001b[90m━━━━━━━━━━━━━━━━━━━━━━━━━━━━━━━━━━━━━━━━\u001b[0m \u001b[32m90.0/90.0 kB\u001b[0m \u001b[31m1.2 MB/s\u001b[0m eta \u001b[36m0:00:00\u001b[0ma \u001b[36m0:00:01\u001b[0m\n",
      "\u001b[?25hRequirement already satisfied: PyYAML>=5.4.1 in ./.conda/lib/python3.10/site-packages (from langchain) (6.0)\n",
      "Requirement already satisfied: numpy<2,>=1 in ./.conda/lib/python3.10/site-packages (from langchain) (1.23.5)\n",
      "Requirement already satisfied: async-timeout<5.0.0,>=4.0.0 in ./.conda/lib/python3.10/site-packages (from langchain) (4.0.2)\n",
      "Requirement already satisfied: tenacity<9.0.0,>=8.1.0 in ./.conda/lib/python3.10/site-packages (from langchain) (8.2.2)\n",
      "Collecting pydantic<2,>=1\n",
      "  Downloading pydantic-1.10.7-cp310-cp310-manylinux_2_17_x86_64.manylinux2014_x86_64.whl (3.1 MB)\n",
      "\u001b[2K     \u001b[90m━━━━━━━━━━━━━━━━━━━━━━━━━━━━━━━━━━━━━━━━\u001b[0m \u001b[32m3.1/3.1 MB\u001b[0m \u001b[31m1.2 MB/s\u001b[0m eta \u001b[36m0:00:00\u001b[0m00:01\u001b[0m00:01\u001b[0m\n",
      "\u001b[?25hRequirement already satisfied: aiosignal>=1.1.2 in ./.conda/lib/python3.10/site-packages (from aiohttp<4.0.0,>=3.8.3->langchain) (1.3.1)\n",
      "Requirement already satisfied: multidict<7.0,>=4.5 in ./.conda/lib/python3.10/site-packages (from aiohttp<4.0.0,>=3.8.3->langchain) (6.0.4)\n",
      "Requirement already satisfied: attrs>=17.3.0 in ./.conda/lib/python3.10/site-packages (from aiohttp<4.0.0,>=3.8.3->langchain) (22.2.0)\n",
      "Requirement already satisfied: frozenlist>=1.1.1 in ./.conda/lib/python3.10/site-packages (from aiohttp<4.0.0,>=3.8.3->langchain) (1.3.3)\n",
      "Requirement already satisfied: yarl<2.0,>=1.0 in ./.conda/lib/python3.10/site-packages (from aiohttp<4.0.0,>=3.8.3->langchain) (1.8.2)\n",
      "Requirement already satisfied: charset-normalizer<4.0,>=2.0 in ./.conda/lib/python3.10/site-packages (from aiohttp<4.0.0,>=3.8.3->langchain) (3.1.0)\n",
      "Collecting marshmallow<4.0.0,>=3.3.0\n",
      "  Using cached marshmallow-3.19.0-py3-none-any.whl (49 kB)\n",
      "Collecting marshmallow-enum<2.0.0,>=1.5.1\n",
      "  Using cached marshmallow_enum-1.5.1-py2.py3-none-any.whl (4.2 kB)\n",
      "Collecting typing-inspect>=0.4.0\n",
      "  Using cached typing_inspect-0.8.0-py3-none-any.whl (8.7 kB)\n",
      "Requirement already satisfied: typing-extensions>=4.2.0 in ./.conda/lib/python3.10/site-packages (from pydantic<2,>=1->langchain) (4.5.0)\n",
      "Requirement already satisfied: urllib3<1.27,>=1.21.1 in ./.conda/lib/python3.10/site-packages (from requests<3,>=2->langchain) (1.26.15)\n",
      "Requirement already satisfied: idna<4,>=2.5 in ./.conda/lib/python3.10/site-packages (from requests<3,>=2->langchain) (3.4)\n",
      "Requirement already satisfied: certifi>=2017.4.17 in ./.conda/lib/python3.10/site-packages (from requests<3,>=2->langchain) (2022.12.7)\n",
      "Collecting greenlet!=0.4.17\n",
      "  Using cached greenlet-2.0.2-cp310-cp310-manylinux_2_17_x86_64.manylinux2014_x86_64.whl (613 kB)\n",
      "Requirement already satisfied: packaging>=17.0 in ./.conda/lib/python3.10/site-packages (from marshmallow<4.0.0,>=3.3.0->dataclasses-json<0.6.0,>=0.5.7->langchain) (23.0)\n",
      "Collecting mypy-extensions>=0.3.0\n",
      "  Using cached mypy_extensions-1.0.0-py3-none-any.whl (4.7 kB)\n",
      "Installing collected packages: pydantic, mypy-extensions, marshmallow, greenlet, typing-inspect, SQLAlchemy, openapi-schema-pydantic, marshmallow-enum, dataclasses-json, langchain\n",
      "Successfully installed SQLAlchemy-1.4.47 dataclasses-json-0.5.7 greenlet-2.0.2 langchain-0.0.135 marshmallow-3.19.0 marshmallow-enum-1.5.1 mypy-extensions-1.0.0 openapi-schema-pydantic-1.2.4 pydantic-1.10.7 typing-inspect-0.8.0\n"
     ]
    }
   ],
   "source": [
    "!pip install langchain"
   ]
  },
  {
   "attachments": {},
   "cell_type": "markdown",
   "metadata": {},
   "source": [
    "### 2.3.1 With ChatGPT"
   ]
  },
  {
   "cell_type": "code",
   "execution_count": 30,
   "metadata": {},
   "outputs": [],
   "source": [
    "import os\n",
    " \n",
    "os.environ[\"OPENAI_API_KEY\"] = \"sk-...\"\n",
    "\n"
   ]
  },
  {
   "cell_type": "code",
   "execution_count": 38,
   "metadata": {},
   "outputs": [
    {
     "name": "stderr",
     "output_type": "stream",
     "text": [
      "/home/rdecoupe/Documents/TETIS/documentation/missions/2023-04_Perth_Murdoch/workshop_MOOD_Murdoch_NLP_for_one_health/.conda/lib/python3.10/site-packages/langchain/llms/openai.py:170: UserWarning: You are trying to use a chat model. This way of initializing it is no longer supported. Instead, please use: `from langchain.chat_models import ChatOpenAI`\n",
      "  warnings.warn(\n",
      "/home/rdecoupe/Documents/TETIS/documentation/missions/2023-04_Perth_Murdoch/workshop_MOOD_Murdoch_NLP_for_one_health/.conda/lib/python3.10/site-packages/langchain/llms/openai.py:624: UserWarning: You are trying to use a chat model. This way of initializing it is no longer supported. Instead, please use: `from langchain.chat_models import ChatOpenAI`\n",
      "  warnings.warn(\n"
     ]
    },
    {
     "data": {
      "text/plain": [
       "'The One Health concept is a multidisciplinary approach that recognizes the interconnectivity of human health, animal health, and environmental health. It emphasizes the need for collaboration between multiple sectors and disciplines, including medicine, public health, veterinary medicine, ecology, and environmental science, to address global health issues that result from the interaction of people, animals, and the environment. The concept focuses on the promotion of healthy ecosystems, the prevention and control of the spread of infectious diseases, and the promotion of healthier and more sustainable food systems.'"
      ]
     },
     "execution_count": 38,
     "metadata": {},
     "output_type": "execute_result"
    }
   ],
   "source": [
    "from langchain.llms import OpenAI\n",
    "llm = OpenAI(model_name=\"gpt-3.5-turbo-0301\")\n",
    "\n",
    "llm(\"What does 'one health concept' mean ?\")"
   ]
  },
  {
   "attachments": {},
   "cell_type": "markdown",
   "metadata": {},
   "source": [
    "### 2.3.1 With HuggingFace API\n",
    "\n",
    "Same procedure as for OpenAI ChatGPT, we need a HuggingFace API key. Follow this link to have [instructions to get your HuggingFace API key](https://huggingface.co/docs/api-inference/quicktour#get-your-api-token)"
   ]
  },
  {
   "cell_type": "code",
   "execution_count": 33,
   "metadata": {},
   "outputs": [],
   "source": [
    "import os \n",
    "\n",
    "os.environ[\"HUGGINGFACEHUB_API_TOKEN\"] = \"hf_...\""
   ]
  },
  {
   "attachments": {},
   "cell_type": "markdown",
   "metadata": {},
   "source": [
    "**Google Flan-T5-XL**"
   ]
  },
  {
   "cell_type": "code",
   "execution_count": 37,
   "metadata": {},
   "outputs": [
    {
     "data": {
      "text/plain": [
       "'one health'"
      ]
     },
     "execution_count": 37,
     "metadata": {},
     "output_type": "execute_result"
    }
   ],
   "source": [
    "from langchain import HuggingFaceHub\n",
    "\n",
    "llm = HuggingFaceHub(repo_id=\"google/flan-t5-xl\")\n",
    "\n",
    "llm(\"What does 'one health concept' mean ?\")"
   ]
  },
  {
   "attachments": {},
   "cell_type": "markdown",
   "metadata": {},
   "source": [
    "**BigScience BLOOM**"
   ]
  },
  {
   "cell_type": "code",
   "execution_count": 36,
   "metadata": {},
   "outputs": [
    {
     "data": {
      "text/plain": [
       "\" The concept of 'one health' is a relatively new concept in the field of veterinary medicine.\""
      ]
     },
     "execution_count": 36,
     "metadata": {},
     "output_type": "execute_result"
    }
   ],
   "source": [
    "from langchain import HuggingFaceHub\n",
    "\n",
    "llm = HuggingFaceHub(repo_id=\"bigscience/bloom\")\n",
    "\n",
    "llm(\"What does 'one health concept' mean ?\")"
   ]
  },
  {
   "attachments": {},
   "cell_type": "markdown",
   "metadata": {},
   "source": [
    "## 2.4 Hallucination\n",
    "LLMs have four main limitations:\n",
    "\n",
    "+ **Hallucination**: the generated text could be incorrect\n",
    "+ Continual learning: is too complexe. For example ChatGPT (GPT-3.5) has been trained on corpus until September 2021. Thus, this means that any information or events that have occured after September 2021 are not included in its knowledge base. \n",
    "+ Contextual size is limited: the processing text that ChatGPT (GPT-3.5) can take into account is limited at 2048 tokens.\n",
    "+ Ethical issues: Even if OpenAI provides ethical filters, the generated text could be toxic and could contain discriminating passages (racism, sexism, ...)\n",
    "\n",
    "In the frame of One-Health, let's focus on hallucination"
   ]
  },
  {
   "cell_type": "code",
   "execution_count": 41,
   "metadata": {},
   "outputs": [
    {
     "data": {
      "text/plain": [
       "'Sure, here is a list of scientific papers related to the One Health concept:\\n\\n1. One Health: Interconnectedness of Human, Animal, and Environmental Health. Wolfe ND, Dunavan CP, Diamond J. Pediatr Infect Dis J. 2007 May;26(5):489-491. doi: 10.1097/INF.0b013e3180639e83.\\n\\n2. One Health: Challenges and Opportunities for a Holistic and Collaborative Approach to Health. Zinsstag J, Schelling E, Waltner-Toews D, Tanner M. Trans R Soc Trop Med Hyg. 2011 Sep;105(9):467-473. doi: 10.1016/j.trstmh.2011.04.010.\\n\\n3. One Health: From Concept to Action. Rabinowitz PM, Conti LA. Comp Immunol Microbiol Infect Dis. 2013 Nov;36(6):227-232. doi: 10.1016/j.cimid.2013.01.002.\\n\\n4. One Health: The Intersection of Human, Animal, and Environmental Health. Gibbs EPJ. Int J One Health. 2015;1:1-3. doi: 10.1111/tbed.12393.\\n\\n5. One Health: The Global Challenge of Epidemic Preparedness. Karesh WB, Dobson A, Lloyd-Smith JO, et al. Lancet Infect Dis. 2012 Feb;12(2):140-141. doi: 10.1016/S1473-3099(11)70304-2.\\n\\n6. The One Health Concept: 10 Years Old and a Long Road Ahead. Rüegg SR, McMahon BJ, Häsler B, et al. Front Vet Sci. 2018 Jul 5;5:14. doi: 10.3389/fvets.2018.00014.\\n\\n7. One Health and the Neglected Tropical Diseases: The Interface of Humans, Animals, and the Environment. Hotez PJ, Bottazzi ME, Zhan B, et al. PLoS Negl Trop Dis. 2012 Dec;6(12):e1612. doi: 10.1371/journal.pntd.0001612.\\n\\n8. One Health: A New Professional Imperative. Kahn LH. Vet Ital. 2009 Oct-Dec;45(4):495-510. doi: 10.1111/tbed.12393.\\n\\n9. One Health: A Conceptual Framework for Health and Environment Policy. Franco C, Andrade M, da Silva Júnior AJ, et al. Environ Health Prev Med. 2014 Jul;19(4):324-327. doi: 10.1007/s12199-014-0398-3.\\n\\n10. One Health and Climate Change: An Emerging Public Health Policy Framework. Morse SS, Mazet JAK, Woolhouse M, et al. Trans R Soc Trop Med Hyg. 2012 Aug;106(8):451-457. doi: 10.1016/j.trstmh.2012.02.015.'"
      ]
     },
     "execution_count": 41,
     "metadata": {},
     "output_type": "execute_result"
    }
   ],
   "source": [
    "from langchain.llms import OpenAI\n",
    "llm = OpenAI(model_name=\"gpt-3.5-turbo-0301\")\n",
    "\n",
    "llm(\"Could you provide a bibliography dealing with One health concept in a scientific paper way ?\")"
   ]
  },
  {
   "cell_type": "code",
   "execution_count": 43,
   "metadata": {},
   "outputs": [
    {
     "name": "stdout",
     "output_type": "stream",
     "text": [
      "Sure, here is a list of scientific papers related to the One Health concept:\n",
      "\n",
      "1. One Health: Interconnectedness of Human, Animal, and Environmental Health. Wolfe ND, Dunavan CP, Diamond J. Pediatr Infect Dis J. 2007 May;26(5):489-491. doi: 10.1097/INF.0b013e3180639e83.\n",
      "\n",
      "2. One Health: Challenges and Opportunities for a Holistic and Collaborative Approach to Health. Zinsstag J, Schelling E, Waltner-Toews D, Tanner M. Trans R Soc Trop Med Hyg. 2011 Sep;105(9):467-473. doi: 10.1016/j.trstmh.2011.04.010.\n",
      "\n",
      "3. One Health: From Concept to Action. Rabinowitz PM, Conti LA. Comp Immunol Microbiol Infect Dis. 2013 Nov;36(6):227-232. doi: 10.1016/j.cimid.2013.01.002.\n",
      "\n",
      "4. One Health: The Intersection of Human, Animal, and Environmental Health. Gibbs EPJ. Int J One Health. 2015;1:1-3. doi: 10.1111/tbed.12393.\n",
      "\n",
      "5. One Health: The Global Challenge of Epidemic Preparedness. Karesh WB, Dobson A, Lloyd-Smith JO, et al. Lancet Infect Dis. 2012 Feb;12(2):140-141. doi: 10.1016/S1473-3099(11)70304-2.\n",
      "\n",
      "6. The One Health Concept: 10 Years Old and a Long Road Ahead. Rüegg SR, McMahon BJ, Häsler B, et al. Front Vet Sci. 2018 Jul 5;5:14. doi: 10.3389/fvets.2018.00014.\n",
      "\n",
      "7. One Health and the Neglected Tropical Diseases: The Interface of Humans, Animals, and the Environment. Hotez PJ, Bottazzi ME, Zhan B, et al. PLoS Negl Trop Dis. 2012 Dec;6(12):e1612. doi: 10.1371/journal.pntd.0001612.\n",
      "\n",
      "8. One Health: A New Professional Imperative. Kahn LH. Vet Ital. 2009 Oct-Dec;45(4):495-510. doi: 10.1111/tbed.12393.\n",
      "\n",
      "9. One Health: A Conceptual Framework for Health and Environment Policy. Franco C, Andrade M, da Silva Júnior AJ, et al. Environ Health Prev Med. 2014 Jul;19(4):324-327. doi: 10.1007/s12199-014-0398-3.\n",
      "\n",
      "10. One Health and Climate Change: An Emerging Public Health Policy Framework. Morse SS, Mazet JAK, Woolhouse M, et al. Trans R Soc Trop Med Hyg. 2012 Aug;106(8):451-457. doi: 10.1016/j.trstmh.2012.02.015.\n"
     ]
    }
   ],
   "source": [
    "print('Sure, here is a list of scientific papers related to the One Health concept:\\n\\n1. One Health: Interconnectedness of Human, Animal, and Environmental Health. Wolfe ND, Dunavan CP, Diamond J. Pediatr Infect Dis J. 2007 May;26(5):489-491. doi: 10.1097/INF.0b013e3180639e83.\\n\\n2. One Health: Challenges and Opportunities for a Holistic and Collaborative Approach to Health. Zinsstag J, Schelling E, Waltner-Toews D, Tanner M. Trans R Soc Trop Med Hyg. 2011 Sep;105(9):467-473. doi: 10.1016/j.trstmh.2011.04.010.\\n\\n3. One Health: From Concept to Action. Rabinowitz PM, Conti LA. Comp Immunol Microbiol Infect Dis. 2013 Nov;36(6):227-232. doi: 10.1016/j.cimid.2013.01.002.\\n\\n4. One Health: The Intersection of Human, Animal, and Environmental Health. Gibbs EPJ. Int J One Health. 2015;1:1-3. doi: 10.1111/tbed.12393.\\n\\n5. One Health: The Global Challenge of Epidemic Preparedness. Karesh WB, Dobson A, Lloyd-Smith JO, et al. Lancet Infect Dis. 2012 Feb;12(2):140-141. doi: 10.1016/S1473-3099(11)70304-2.\\n\\n6. The One Health Concept: 10 Years Old and a Long Road Ahead. Rüegg SR, McMahon BJ, Häsler B, et al. Front Vet Sci. 2018 Jul 5;5:14. doi: 10.3389/fvets.2018.00014.\\n\\n7. One Health and the Neglected Tropical Diseases: The Interface of Humans, Animals, and the Environment. Hotez PJ, Bottazzi ME, Zhan B, et al. PLoS Negl Trop Dis. 2012 Dec;6(12):e1612. doi: 10.1371/journal.pntd.0001612.\\n\\n8. One Health: A New Professional Imperative. Kahn LH. Vet Ital. 2009 Oct-Dec;45(4):495-510. doi: 10.1111/tbed.12393.\\n\\n9. One Health: A Conceptual Framework for Health and Environment Policy. Franco C, Andrade M, da Silva Júnior AJ, et al. Environ Health Prev Med. 2014 Jul;19(4):324-327. doi: 10.1007/s12199-014-0398-3.\\n\\n10. One Health and Climate Change: An Emerging Public Health Policy Framework. Morse SS, Mazet JAK, Woolhouse M, et al. Trans R Soc Trop Med Hyg. 2012 Aug;106(8):451-457. doi: 10.1016/j.trstmh.2012.02.015.')"
   ]
  },
  {
   "attachments": {},
   "cell_type": "markdown",
   "metadata": {},
   "source": [
    "**Try to accept to the DOI generated by ChatGPT:**\n",
    "\n",
    "For example for the last paper : https://doi.org/ + 10.1016/j.trstmh.2012.02.015 => [https://doi.org/10.1016/j.trstmh.2012.02.015] Leads to **DOI not found**\n",
    "\n",
    "ChatGPT has just created this reference "
   ]
  },
  {
   "cell_type": "code",
   "execution_count": null,
   "metadata": {},
   "outputs": [],
   "source": []
  }
 ],
 "metadata": {
  "kernelspec": {
   "display_name": "Python 3",
   "language": "python",
   "name": "python3"
  },
  "language_info": {
   "codemirror_mode": {
    "name": "ipython",
    "version": 3
   },
   "file_extension": ".py",
   "mimetype": "text/x-python",
   "name": "python",
   "nbconvert_exporter": "python",
   "pygments_lexer": "ipython3",
   "version": "3.10.10"
  },
  "orig_nbformat": 4
 },
 "nbformat": 4,
 "nbformat_minor": 2
}
